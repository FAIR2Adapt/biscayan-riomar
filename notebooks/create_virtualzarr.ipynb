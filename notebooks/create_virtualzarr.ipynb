{
 "cells": [
  {
   "cell_type": "code",
   "execution_count": 1,
   "id": "40d6acdb-f42a-48a1-b120-6860387ff69f",
   "metadata": {
    "execution": {
     "iopub.execute_input": "2025-04-18T08:45:36.134637Z",
     "iopub.status.busy": "2025-04-18T08:45:36.134409Z",
     "iopub.status.idle": "2025-04-18T08:45:42.285524Z",
     "shell.execute_reply": "2025-04-18T08:45:42.285022Z",
     "shell.execute_reply.started": "2025-04-18T08:45:36.134615Z"
    }
   },
   "outputs": [],
   "source": [
    "import glob\n",
    "from virtualizarr import open_virtual_dataset\n",
    "import xarray as xr"
   ]
  },
  {
   "cell_type": "code",
   "execution_count": 2,
   "id": "35390723-cfdb-465a-9d78-3fd8517bbf4b",
   "metadata": {
    "execution": {
     "iopub.execute_input": "2025-04-18T08:46:51.857755Z",
     "iopub.status.busy": "2025-04-18T08:46:51.857124Z",
     "iopub.status.idle": "2025-04-18T08:46:51.863478Z",
     "shell.execute_reply": "2025-04-18T08:46:51.863026Z",
     "shell.execute_reply.started": "2025-04-18T08:46:51.857732Z"
    }
   },
   "outputs": [
    {
     "name": "stderr",
     "output_type": "stream",
     "text": [
      "/home/datawork-marc/ENVS/pangeo2025/lib/python3.13/site-packages/pyproj/network.py:59: UserWarning: pyproj unable to set PROJ database path.\n",
      "  _set_context_ca_bundle_path(ca_bundle_path)\n"
     ]
    },
    {
     "name": "stdout",
     "output_type": "stream",
     "text": [
      "\n",
      "INSTALLED VERSIONS\n",
      "------------------\n",
      "commit: None\n",
      "python: 3.13.3 | packaged by conda-forge | (main, Apr 14 2025, 20:44:03) [GCC 13.3.0]\n",
      "python-bits: 64\n",
      "OS: Linux\n",
      "OS-release: 3.12.53-60.30-default\n",
      "machine: x86_64\n",
      "processor: x86_64\n",
      "byteorder: little\n",
      "LC_ALL: None\n",
      "LANG: en_US.UTF-8\n",
      "LOCALE: ('en_US', 'UTF-8')\n",
      "libhdf5: 1.14.4\n",
      "libnetcdf: 4.9.2\n",
      "\n",
      "xarray: 2025.3.1\n",
      "pandas: 2.2.3\n",
      "numpy: 2.2.4\n",
      "scipy: 1.15.2\n",
      "netCDF4: 1.7.2\n",
      "pydap: None\n",
      "h5netcdf: 1.6.1\n",
      "h5py: 3.12.1\n",
      "zarr: 3.0.6\n",
      "cftime: 1.6.4\n",
      "nc_time_axis: None\n",
      "iris: None\n",
      "bottleneck: None\n",
      "dask: 2025.3.0\n",
      "distributed: 2025.3.0\n",
      "matplotlib: 3.10.1\n",
      "cartopy: 0.24.0\n",
      "seaborn: None\n",
      "numbagg: None\n",
      "fsspec: 2025.3.2\n",
      "cupy: None\n",
      "pint: None\n",
      "sparse: None\n",
      "flox: None\n",
      "numpy_groupies: None\n",
      "setuptools: 78.1.0\n",
      "pip: 25.0.1\n",
      "conda: None\n",
      "pytest: None\n",
      "mypy: None\n",
      "IPython: 9.1.0\n",
      "sphinx: None\n"
     ]
    }
   ],
   "source": [
    "xr.show_versions()"
   ]
  },
  {
   "cell_type": "code",
   "execution_count": 4,
   "id": "56bdc6cb-d798-4801-ac1e-f0bd83e3b277",
   "metadata": {
    "execution": {
     "iopub.execute_input": "2025-04-18T08:48:45.932132Z",
     "iopub.status.busy": "2025-04-18T08:48:45.931860Z",
     "iopub.status.idle": "2025-04-18T08:48:45.934691Z",
     "shell.execute_reply": "2025-04-18T08:48:45.934257Z",
     "shell.execute_reply.started": "2025-04-18T08:48:45.932111Z"
    }
   },
   "outputs": [],
   "source": [
    "import virtualizarr"
   ]
  },
  {
   "cell_type": "code",
   "execution_count": 5,
   "id": "0cd749a8-2984-4675-9a24-39cc8b2ccf42",
   "metadata": {
    "execution": {
     "iopub.execute_input": "2025-04-18T08:49:39.716860Z",
     "iopub.status.busy": "2025-04-18T08:49:39.716292Z",
     "iopub.status.idle": "2025-04-18T08:49:39.724624Z",
     "shell.execute_reply": "2025-04-18T08:49:39.723991Z",
     "shell.execute_reply.started": "2025-04-18T08:49:39.716828Z"
    }
   },
   "outputs": [
    {
     "data": {
      "text/plain": [
       "'1.3.2'"
      ]
     },
     "execution_count": 5,
     "metadata": {},
     "output_type": "execute_result"
    }
   ],
   "source": [
    "virtualizarr.__version__"
   ]
  },
  {
   "cell_type": "code",
   "execution_count": 6,
   "id": "97561f63-1c52-43b5-b860-7e1563244af7",
   "metadata": {
    "execution": {
     "iopub.execute_input": "2025-04-18T08:49:57.858099Z",
     "iopub.status.busy": "2025-04-18T08:49:57.857830Z",
     "iopub.status.idle": "2025-04-18T08:51:35.702068Z",
     "shell.execute_reply": "2025-04-18T08:51:35.701534Z",
     "shell.execute_reply.started": "2025-04-18T08:49:57.858079Z"
    }
   },
   "outputs": [],
   "source": [
    "virtual_datasets = [\n",
    "    open_virtual_dataset(filepath)\n",
    "    for filepath in glob.glob('/home/datawork-lops-riomar/GAMAR/OUTPUTS/GAMAR_1h_inst_Y2023M*.nc')\n",
    "]"
   ]
  },
  {
   "cell_type": "code",
   "execution_count": 7,
   "id": "d39efd32-a39d-4b51-b73f-4c8c1db37e45",
   "metadata": {
    "execution": {
     "iopub.execute_input": "2025-04-18T08:51:59.754248Z",
     "iopub.status.busy": "2025-04-18T08:51:59.753926Z",
     "iopub.status.idle": "2025-04-18T08:52:00.080326Z",
     "shell.execute_reply": "2025-04-18T08:52:00.079570Z",
     "shell.execute_reply.started": "2025-04-18T08:51:59.754227Z"
    }
   },
   "outputs": [
    {
     "ename": "ValueError",
     "evalue": "cannot reindex or align along dimension 'time_counter' because of conflicting dimension sizes: {744, 672, 720}",
     "output_type": "error",
     "traceback": [
      "\u001b[31m---------------------------------------------------------------------------\u001b[39m",
      "\u001b[31mValueError\u001b[39m                                Traceback (most recent call last)",
      "\u001b[36mCell\u001b[39m\u001b[36m \u001b[39m\u001b[32mIn[7]\u001b[39m\u001b[32m, line 2\u001b[39m\n\u001b[32m      1\u001b[39m \u001b[38;5;66;03m# this Dataset wraps a bunch of virtual ManifestArray objects directly\u001b[39;00m\n\u001b[32m----> \u001b[39m\u001b[32m2\u001b[39m virtual_ds = \u001b[43mxr\u001b[49m\u001b[43m.\u001b[49m\u001b[43mcombine_nested\u001b[49m\u001b[43m(\u001b[49m\u001b[43mvirtual_datasets\u001b[49m\u001b[43m,\u001b[49m\u001b[43m \u001b[49m\u001b[43mconcat_dim\u001b[49m\u001b[43m=\u001b[49m\u001b[43m[\u001b[49m\u001b[33;43m'\u001b[39;49m\u001b[33;43mtime\u001b[39;49m\u001b[33;43m'\u001b[39;49m\u001b[43m]\u001b[49m\u001b[43m)\u001b[49m\n",
      "\u001b[36mFile \u001b[39m\u001b[32m/home/datawork-marc/ENVS/pangeo2025/lib/python3.13/site-packages/xarray/structure/combine.py:588\u001b[39m, in \u001b[36mcombine_nested\u001b[39m\u001b[34m(datasets, concat_dim, compat, data_vars, coords, fill_value, join, combine_attrs)\u001b[39m\n\u001b[32m    585\u001b[39m     concat_dim = [concat_dim]\n\u001b[32m    587\u001b[39m \u001b[38;5;66;03m# The IDs argument tells _nested_combine that datasets aren't yet sorted\u001b[39;00m\n\u001b[32m--> \u001b[39m\u001b[32m588\u001b[39m \u001b[38;5;28;01mreturn\u001b[39;00m \u001b[43m_nested_combine\u001b[49m\u001b[43m(\u001b[49m\n\u001b[32m    589\u001b[39m \u001b[43m    \u001b[49m\u001b[43mdatasets\u001b[49m\u001b[43m,\u001b[49m\n\u001b[32m    590\u001b[39m \u001b[43m    \u001b[49m\u001b[43mconcat_dims\u001b[49m\u001b[43m=\u001b[49m\u001b[43mconcat_dim\u001b[49m\u001b[43m,\u001b[49m\n\u001b[32m    591\u001b[39m \u001b[43m    \u001b[49m\u001b[43mcompat\u001b[49m\u001b[43m=\u001b[49m\u001b[43mcompat\u001b[49m\u001b[43m,\u001b[49m\n\u001b[32m    592\u001b[39m \u001b[43m    \u001b[49m\u001b[43mdata_vars\u001b[49m\u001b[43m=\u001b[49m\u001b[43mdata_vars\u001b[49m\u001b[43m,\u001b[49m\n\u001b[32m    593\u001b[39m \u001b[43m    \u001b[49m\u001b[43mcoords\u001b[49m\u001b[43m=\u001b[49m\u001b[43mcoords\u001b[49m\u001b[43m,\u001b[49m\n\u001b[32m    594\u001b[39m \u001b[43m    \u001b[49m\u001b[43mids\u001b[49m\u001b[43m=\u001b[49m\u001b[38;5;28;43;01mFalse\u001b[39;49;00m\u001b[43m,\u001b[49m\n\u001b[32m    595\u001b[39m \u001b[43m    \u001b[49m\u001b[43mfill_value\u001b[49m\u001b[43m=\u001b[49m\u001b[43mfill_value\u001b[49m\u001b[43m,\u001b[49m\n\u001b[32m    596\u001b[39m \u001b[43m    \u001b[49m\u001b[43mjoin\u001b[49m\u001b[43m=\u001b[49m\u001b[43mjoin\u001b[49m\u001b[43m,\u001b[49m\n\u001b[32m    597\u001b[39m \u001b[43m    \u001b[49m\u001b[43mcombine_attrs\u001b[49m\u001b[43m=\u001b[49m\u001b[43mcombine_attrs\u001b[49m\u001b[43m,\u001b[49m\n\u001b[32m    598\u001b[39m \u001b[43m\u001b[49m\u001b[43m)\u001b[49m\n",
      "\u001b[36mFile \u001b[39m\u001b[32m/home/datawork-marc/ENVS/pangeo2025/lib/python3.13/site-packages/xarray/structure/combine.py:367\u001b[39m, in \u001b[36m_nested_combine\u001b[39m\u001b[34m(datasets, concat_dims, compat, data_vars, coords, ids, fill_value, join, combine_attrs)\u001b[39m\n\u001b[32m    364\u001b[39m _check_shape_tile_ids(combined_ids)\n\u001b[32m    366\u001b[39m \u001b[38;5;66;03m# Apply series of concatenate or merge operations along each dimension\u001b[39;00m\n\u001b[32m--> \u001b[39m\u001b[32m367\u001b[39m combined = \u001b[43m_combine_nd\u001b[49m\u001b[43m(\u001b[49m\n\u001b[32m    368\u001b[39m \u001b[43m    \u001b[49m\u001b[43mcombined_ids\u001b[49m\u001b[43m,\u001b[49m\n\u001b[32m    369\u001b[39m \u001b[43m    \u001b[49m\u001b[43mconcat_dims\u001b[49m\u001b[43m,\u001b[49m\n\u001b[32m    370\u001b[39m \u001b[43m    \u001b[49m\u001b[43mcompat\u001b[49m\u001b[43m=\u001b[49m\u001b[43mcompat\u001b[49m\u001b[43m,\u001b[49m\n\u001b[32m    371\u001b[39m \u001b[43m    \u001b[49m\u001b[43mdata_vars\u001b[49m\u001b[43m=\u001b[49m\u001b[43mdata_vars\u001b[49m\u001b[43m,\u001b[49m\n\u001b[32m    372\u001b[39m \u001b[43m    \u001b[49m\u001b[43mcoords\u001b[49m\u001b[43m=\u001b[49m\u001b[43mcoords\u001b[49m\u001b[43m,\u001b[49m\n\u001b[32m    373\u001b[39m \u001b[43m    \u001b[49m\u001b[43mfill_value\u001b[49m\u001b[43m=\u001b[49m\u001b[43mfill_value\u001b[49m\u001b[43m,\u001b[49m\n\u001b[32m    374\u001b[39m \u001b[43m    \u001b[49m\u001b[43mjoin\u001b[49m\u001b[43m=\u001b[49m\u001b[43mjoin\u001b[49m\u001b[43m,\u001b[49m\n\u001b[32m    375\u001b[39m \u001b[43m    \u001b[49m\u001b[43mcombine_attrs\u001b[49m\u001b[43m=\u001b[49m\u001b[43mcombine_attrs\u001b[49m\u001b[43m,\u001b[49m\n\u001b[32m    376\u001b[39m \u001b[43m\u001b[49m\u001b[43m)\u001b[49m\n\u001b[32m    377\u001b[39m \u001b[38;5;28;01mreturn\u001b[39;00m combined\n",
      "\u001b[36mFile \u001b[39m\u001b[32m/home/datawork-marc/ENVS/pangeo2025/lib/python3.13/site-packages/xarray/structure/combine.py:246\u001b[39m, in \u001b[36m_combine_nd\u001b[39m\u001b[34m(combined_ids, concat_dims, data_vars, coords, compat, fill_value, join, combine_attrs)\u001b[39m\n\u001b[32m    242\u001b[39m \u001b[38;5;66;03m# Each iteration of this loop reduces the length of the tile_ids tuples\u001b[39;00m\n\u001b[32m    243\u001b[39m \u001b[38;5;66;03m# by one. It always combines along the first dimension, removing the first\u001b[39;00m\n\u001b[32m    244\u001b[39m \u001b[38;5;66;03m# element of the tuple\u001b[39;00m\n\u001b[32m    245\u001b[39m \u001b[38;5;28;01mfor\u001b[39;00m concat_dim \u001b[38;5;129;01min\u001b[39;00m concat_dims:\n\u001b[32m--> \u001b[39m\u001b[32m246\u001b[39m     combined_ids = \u001b[43m_combine_all_along_first_dim\u001b[49m\u001b[43m(\u001b[49m\n\u001b[32m    247\u001b[39m \u001b[43m        \u001b[49m\u001b[43mcombined_ids\u001b[49m\u001b[43m,\u001b[49m\n\u001b[32m    248\u001b[39m \u001b[43m        \u001b[49m\u001b[43mdim\u001b[49m\u001b[43m=\u001b[49m\u001b[43mconcat_dim\u001b[49m\u001b[43m,\u001b[49m\n\u001b[32m    249\u001b[39m \u001b[43m        \u001b[49m\u001b[43mdata_vars\u001b[49m\u001b[43m=\u001b[49m\u001b[43mdata_vars\u001b[49m\u001b[43m,\u001b[49m\n\u001b[32m    250\u001b[39m \u001b[43m        \u001b[49m\u001b[43mcoords\u001b[49m\u001b[43m=\u001b[49m\u001b[43mcoords\u001b[49m\u001b[43m,\u001b[49m\n\u001b[32m    251\u001b[39m \u001b[43m        \u001b[49m\u001b[43mcompat\u001b[49m\u001b[43m=\u001b[49m\u001b[43mcompat\u001b[49m\u001b[43m,\u001b[49m\n\u001b[32m    252\u001b[39m \u001b[43m        \u001b[49m\u001b[43mfill_value\u001b[49m\u001b[43m=\u001b[49m\u001b[43mfill_value\u001b[49m\u001b[43m,\u001b[49m\n\u001b[32m    253\u001b[39m \u001b[43m        \u001b[49m\u001b[43mjoin\u001b[49m\u001b[43m=\u001b[49m\u001b[43mjoin\u001b[49m\u001b[43m,\u001b[49m\n\u001b[32m    254\u001b[39m \u001b[43m        \u001b[49m\u001b[43mcombine_attrs\u001b[49m\u001b[43m=\u001b[49m\u001b[43mcombine_attrs\u001b[49m\u001b[43m,\u001b[49m\n\u001b[32m    255\u001b[39m \u001b[43m    \u001b[49m\u001b[43m)\u001b[49m\n\u001b[32m    256\u001b[39m (combined_ds,) = combined_ids.values()\n\u001b[32m    257\u001b[39m \u001b[38;5;28;01mreturn\u001b[39;00m combined_ds\n",
      "\u001b[36mFile \u001b[39m\u001b[32m/home/datawork-marc/ENVS/pangeo2025/lib/python3.13/site-packages/xarray/structure/combine.py:278\u001b[39m, in \u001b[36m_combine_all_along_first_dim\u001b[39m\u001b[34m(combined_ids, dim, data_vars, coords, compat, fill_value, join, combine_attrs)\u001b[39m\n\u001b[32m    276\u001b[39m     combined_ids = \u001b[38;5;28mdict\u001b[39m(\u001b[38;5;28msorted\u001b[39m(group))\n\u001b[32m    277\u001b[39m     datasets = combined_ids.values()\n\u001b[32m--> \u001b[39m\u001b[32m278\u001b[39m     new_combined_ids[new_id] = \u001b[43m_combine_1d\u001b[49m\u001b[43m(\u001b[49m\n\u001b[32m    279\u001b[39m \u001b[43m        \u001b[49m\u001b[43mdatasets\u001b[49m\u001b[43m,\u001b[49m\u001b[43m \u001b[49m\u001b[43mdim\u001b[49m\u001b[43m,\u001b[49m\u001b[43m \u001b[49m\u001b[43mcompat\u001b[49m\u001b[43m,\u001b[49m\u001b[43m \u001b[49m\u001b[43mdata_vars\u001b[49m\u001b[43m,\u001b[49m\u001b[43m \u001b[49m\u001b[43mcoords\u001b[49m\u001b[43m,\u001b[49m\u001b[43m \u001b[49m\u001b[43mfill_value\u001b[49m\u001b[43m,\u001b[49m\u001b[43m \u001b[49m\u001b[43mjoin\u001b[49m\u001b[43m,\u001b[49m\u001b[43m \u001b[49m\u001b[43mcombine_attrs\u001b[49m\n\u001b[32m    280\u001b[39m \u001b[43m    \u001b[49m\u001b[43m)\u001b[49m\n\u001b[32m    281\u001b[39m \u001b[38;5;28;01mreturn\u001b[39;00m new_combined_ids\n",
      "\u001b[36mFile \u001b[39m\u001b[32m/home/datawork-marc/ENVS/pangeo2025/lib/python3.13/site-packages/xarray/structure/combine.py:301\u001b[39m, in \u001b[36m_combine_1d\u001b[39m\u001b[34m(datasets, concat_dim, compat, data_vars, coords, fill_value, join, combine_attrs)\u001b[39m\n\u001b[32m    299\u001b[39m \u001b[38;5;28;01mif\u001b[39;00m concat_dim \u001b[38;5;129;01mis\u001b[39;00m \u001b[38;5;129;01mnot\u001b[39;00m \u001b[38;5;28;01mNone\u001b[39;00m:\n\u001b[32m    300\u001b[39m     \u001b[38;5;28;01mtry\u001b[39;00m:\n\u001b[32m--> \u001b[39m\u001b[32m301\u001b[39m         combined = \u001b[43mconcat\u001b[49m\u001b[43m(\u001b[49m\n\u001b[32m    302\u001b[39m \u001b[43m            \u001b[49m\u001b[43mdatasets\u001b[49m\u001b[43m,\u001b[49m\n\u001b[32m    303\u001b[39m \u001b[43m            \u001b[49m\u001b[43mdim\u001b[49m\u001b[43m=\u001b[49m\u001b[43mconcat_dim\u001b[49m\u001b[43m,\u001b[49m\n\u001b[32m    304\u001b[39m \u001b[43m            \u001b[49m\u001b[43mdata_vars\u001b[49m\u001b[43m=\u001b[49m\u001b[43mdata_vars\u001b[49m\u001b[43m,\u001b[49m\n\u001b[32m    305\u001b[39m \u001b[43m            \u001b[49m\u001b[43mcoords\u001b[49m\u001b[43m=\u001b[49m\u001b[43mcoords\u001b[49m\u001b[43m,\u001b[49m\n\u001b[32m    306\u001b[39m \u001b[43m            \u001b[49m\u001b[43mcompat\u001b[49m\u001b[43m=\u001b[49m\u001b[43mcompat\u001b[49m\u001b[43m,\u001b[49m\n\u001b[32m    307\u001b[39m \u001b[43m            \u001b[49m\u001b[43mfill_value\u001b[49m\u001b[43m=\u001b[49m\u001b[43mfill_value\u001b[49m\u001b[43m,\u001b[49m\n\u001b[32m    308\u001b[39m \u001b[43m            \u001b[49m\u001b[43mjoin\u001b[49m\u001b[43m=\u001b[49m\u001b[43mjoin\u001b[49m\u001b[43m,\u001b[49m\n\u001b[32m    309\u001b[39m \u001b[43m            \u001b[49m\u001b[43mcombine_attrs\u001b[49m\u001b[43m=\u001b[49m\u001b[43mcombine_attrs\u001b[49m\u001b[43m,\u001b[49m\n\u001b[32m    310\u001b[39m \u001b[43m        \u001b[49m\u001b[43m)\u001b[49m\n\u001b[32m    311\u001b[39m     \u001b[38;5;28;01mexcept\u001b[39;00m \u001b[38;5;167;01mValueError\u001b[39;00m \u001b[38;5;28;01mas\u001b[39;00m err:\n\u001b[32m    312\u001b[39m         \u001b[38;5;28;01mif\u001b[39;00m \u001b[33m\"\u001b[39m\u001b[33mencountered unexpected variable\u001b[39m\u001b[33m\"\u001b[39m \u001b[38;5;129;01min\u001b[39;00m \u001b[38;5;28mstr\u001b[39m(err):\n",
      "\u001b[36mFile \u001b[39m\u001b[32m/home/datawork-marc/ENVS/pangeo2025/lib/python3.13/site-packages/xarray/structure/concat.py:277\u001b[39m, in \u001b[36mconcat\u001b[39m\u001b[34m(objs, dim, data_vars, coords, compat, positions, fill_value, join, combine_attrs, create_index_for_new_dim)\u001b[39m\n\u001b[32m    264\u001b[39m     \u001b[38;5;28;01mreturn\u001b[39;00m _dataarray_concat(\n\u001b[32m    265\u001b[39m         objs,\n\u001b[32m    266\u001b[39m         dim=dim,\n\u001b[32m   (...)\u001b[39m\u001b[32m    274\u001b[39m         create_index_for_new_dim=create_index_for_new_dim,\n\u001b[32m    275\u001b[39m     )\n\u001b[32m    276\u001b[39m \u001b[38;5;28;01melif\u001b[39;00m \u001b[38;5;28misinstance\u001b[39m(first_obj, Dataset):\n\u001b[32m--> \u001b[39m\u001b[32m277\u001b[39m     \u001b[38;5;28;01mreturn\u001b[39;00m \u001b[43m_dataset_concat\u001b[49m\u001b[43m(\u001b[49m\n\u001b[32m    278\u001b[39m \u001b[43m        \u001b[49m\u001b[43mobjs\u001b[49m\u001b[43m,\u001b[49m\n\u001b[32m    279\u001b[39m \u001b[43m        \u001b[49m\u001b[43mdim\u001b[49m\u001b[43m=\u001b[49m\u001b[43mdim\u001b[49m\u001b[43m,\u001b[49m\n\u001b[32m    280\u001b[39m \u001b[43m        \u001b[49m\u001b[43mdata_vars\u001b[49m\u001b[43m=\u001b[49m\u001b[43mdata_vars\u001b[49m\u001b[43m,\u001b[49m\n\u001b[32m    281\u001b[39m \u001b[43m        \u001b[49m\u001b[43mcoords\u001b[49m\u001b[43m=\u001b[49m\u001b[43mcoords\u001b[49m\u001b[43m,\u001b[49m\n\u001b[32m    282\u001b[39m \u001b[43m        \u001b[49m\u001b[43mcompat\u001b[49m\u001b[43m=\u001b[49m\u001b[43mcompat\u001b[49m\u001b[43m,\u001b[49m\n\u001b[32m    283\u001b[39m \u001b[43m        \u001b[49m\u001b[43mpositions\u001b[49m\u001b[43m=\u001b[49m\u001b[43mpositions\u001b[49m\u001b[43m,\u001b[49m\n\u001b[32m    284\u001b[39m \u001b[43m        \u001b[49m\u001b[43mfill_value\u001b[49m\u001b[43m=\u001b[49m\u001b[43mfill_value\u001b[49m\u001b[43m,\u001b[49m\n\u001b[32m    285\u001b[39m \u001b[43m        \u001b[49m\u001b[43mjoin\u001b[49m\u001b[43m=\u001b[49m\u001b[43mjoin\u001b[49m\u001b[43m,\u001b[49m\n\u001b[32m    286\u001b[39m \u001b[43m        \u001b[49m\u001b[43mcombine_attrs\u001b[49m\u001b[43m=\u001b[49m\u001b[43mcombine_attrs\u001b[49m\u001b[43m,\u001b[49m\n\u001b[32m    287\u001b[39m \u001b[43m        \u001b[49m\u001b[43mcreate_index_for_new_dim\u001b[49m\u001b[43m=\u001b[49m\u001b[43mcreate_index_for_new_dim\u001b[49m\u001b[43m,\u001b[49m\n\u001b[32m    288\u001b[39m \u001b[43m    \u001b[49m\u001b[43m)\u001b[49m\n\u001b[32m    289\u001b[39m \u001b[38;5;28;01melse\u001b[39;00m:\n\u001b[32m    290\u001b[39m     \u001b[38;5;28;01mraise\u001b[39;00m \u001b[38;5;167;01mTypeError\u001b[39;00m(\n\u001b[32m    291\u001b[39m         \u001b[33m\"\u001b[39m\u001b[33mcan only concatenate xarray Dataset and DataArray \u001b[39m\u001b[33m\"\u001b[39m\n\u001b[32m    292\u001b[39m         \u001b[33mf\u001b[39m\u001b[33m\"\u001b[39m\u001b[33mobjects, got \u001b[39m\u001b[38;5;132;01m{\u001b[39;00m\u001b[38;5;28mtype\u001b[39m(first_obj)\u001b[38;5;132;01m}\u001b[39;00m\u001b[33m\"\u001b[39m\n\u001b[32m    293\u001b[39m     )\n",
      "\u001b[36mFile \u001b[39m\u001b[32m/home/datawork-marc/ENVS/pangeo2025/lib/python3.13/site-packages/xarray/structure/concat.py:516\u001b[39m, in \u001b[36m_dataset_concat\u001b[39m\u001b[34m(datasets, dim, data_vars, coords, compat, positions, fill_value, join, combine_attrs, create_index_for_new_dim)\u001b[39m\n\u001b[32m    513\u001b[39m \u001b[38;5;66;03m# Make sure we're working on a copy (we'll be loading variables)\u001b[39;00m\n\u001b[32m    514\u001b[39m datasets = [ds.copy() \u001b[38;5;28;01mfor\u001b[39;00m ds \u001b[38;5;129;01min\u001b[39;00m datasets]\n\u001b[32m    515\u001b[39m datasets = \u001b[38;5;28mlist\u001b[39m(\n\u001b[32m--> \u001b[39m\u001b[32m516\u001b[39m     \u001b[43malign\u001b[49m\u001b[43m(\u001b[49m\n\u001b[32m    517\u001b[39m \u001b[43m        \u001b[49m\u001b[43m*\u001b[49m\u001b[43mdatasets\u001b[49m\u001b[43m,\u001b[49m\u001b[43m \u001b[49m\u001b[43mjoin\u001b[49m\u001b[43m=\u001b[49m\u001b[43mjoin\u001b[49m\u001b[43m,\u001b[49m\u001b[43m \u001b[49m\u001b[43mcopy\u001b[49m\u001b[43m=\u001b[49m\u001b[38;5;28;43;01mFalse\u001b[39;49;00m\u001b[43m,\u001b[49m\u001b[43m \u001b[49m\u001b[43mexclude\u001b[49m\u001b[43m=\u001b[49m\u001b[43m[\u001b[49m\u001b[43mdim_name\u001b[49m\u001b[43m]\u001b[49m\u001b[43m,\u001b[49m\u001b[43m \u001b[49m\u001b[43mfill_value\u001b[49m\u001b[43m=\u001b[49m\u001b[43mfill_value\u001b[49m\n\u001b[32m    518\u001b[39m \u001b[43m    \u001b[49m\u001b[43m)\u001b[49m\n\u001b[32m    519\u001b[39m )\n\u001b[32m    521\u001b[39m dim_coords, dims_sizes, coord_names, data_names, vars_order = _parse_datasets(\n\u001b[32m    522\u001b[39m     datasets\n\u001b[32m    523\u001b[39m )\n\u001b[32m    524\u001b[39m dim_names = \u001b[38;5;28mset\u001b[39m(dim_coords)\n",
      "\u001b[36mFile \u001b[39m\u001b[32m/home/datawork-marc/ENVS/pangeo2025/lib/python3.13/site-packages/xarray/structure/alignment.py:883\u001b[39m, in \u001b[36malign\u001b[39m\u001b[34m(join, copy, indexes, exclude, fill_value, *objects)\u001b[39m\n\u001b[32m    687\u001b[39m \u001b[38;5;250m\u001b[39m\u001b[33;03m\"\"\"\u001b[39;00m\n\u001b[32m    688\u001b[39m \u001b[33;03mGiven any number of Dataset and/or DataArray objects, returns new\u001b[39;00m\n\u001b[32m    689\u001b[39m \u001b[33;03mobjects with aligned indexes and dimension sizes.\u001b[39;00m\n\u001b[32m   (...)\u001b[39m\u001b[32m    873\u001b[39m \n\u001b[32m    874\u001b[39m \u001b[33;03m\"\"\"\u001b[39;00m\n\u001b[32m    875\u001b[39m aligner = Aligner(\n\u001b[32m    876\u001b[39m     objects,\n\u001b[32m    877\u001b[39m     join=join,\n\u001b[32m   (...)\u001b[39m\u001b[32m    881\u001b[39m     fill_value=fill_value,\n\u001b[32m    882\u001b[39m )\n\u001b[32m--> \u001b[39m\u001b[32m883\u001b[39m \u001b[43maligner\u001b[49m\u001b[43m.\u001b[49m\u001b[43malign\u001b[49m\u001b[43m(\u001b[49m\u001b[43m)\u001b[49m\n\u001b[32m    884\u001b[39m \u001b[38;5;28;01mreturn\u001b[39;00m aligner.results\n",
      "\u001b[36mFile \u001b[39m\u001b[32m/home/datawork-marc/ENVS/pangeo2025/lib/python3.13/site-packages/xarray/structure/alignment.py:576\u001b[39m, in \u001b[36mAligner.align\u001b[39m\u001b[34m(self)\u001b[39m\n\u001b[32m    574\u001b[39m \u001b[38;5;28mself\u001b[39m.assert_no_index_conflict()\n\u001b[32m    575\u001b[39m \u001b[38;5;28mself\u001b[39m.align_indexes()\n\u001b[32m--> \u001b[39m\u001b[32m576\u001b[39m \u001b[38;5;28;43mself\u001b[39;49m\u001b[43m.\u001b[49m\u001b[43massert_unindexed_dim_sizes_equal\u001b[49m\u001b[43m(\u001b[49m\u001b[43m)\u001b[49m\n\u001b[32m    578\u001b[39m \u001b[38;5;28;01mif\u001b[39;00m \u001b[38;5;28mself\u001b[39m.join == \u001b[33m\"\u001b[39m\u001b[33moverride\u001b[39m\u001b[33m\"\u001b[39m:\n\u001b[32m    579\u001b[39m     \u001b[38;5;28mself\u001b[39m.override_indexes()\n",
      "\u001b[36mFile \u001b[39m\u001b[32m/home/datawork-marc/ENVS/pangeo2025/lib/python3.13/site-packages/xarray/structure/alignment.py:477\u001b[39m, in \u001b[36mAligner.assert_unindexed_dim_sizes_equal\u001b[39m\u001b[34m(self)\u001b[39m\n\u001b[32m    475\u001b[39m     add_err_msg = \u001b[33m\"\u001b[39m\u001b[33m\"\u001b[39m\n\u001b[32m    476\u001b[39m \u001b[38;5;28;01mif\u001b[39;00m \u001b[38;5;28mlen\u001b[39m(sizes) > \u001b[32m1\u001b[39m:\n\u001b[32m--> \u001b[39m\u001b[32m477\u001b[39m     \u001b[38;5;28;01mraise\u001b[39;00m \u001b[38;5;167;01mValueError\u001b[39;00m(\n\u001b[32m    478\u001b[39m         \u001b[33mf\u001b[39m\u001b[33m\"\u001b[39m\u001b[33mcannot reindex or align along dimension \u001b[39m\u001b[38;5;132;01m{\u001b[39;00mdim\u001b[38;5;132;01m!r}\u001b[39;00m\u001b[33m \u001b[39m\u001b[33m\"\u001b[39m\n\u001b[32m    479\u001b[39m         \u001b[33mf\u001b[39m\u001b[33m\"\u001b[39m\u001b[33mbecause of conflicting dimension sizes: \u001b[39m\u001b[38;5;132;01m{\u001b[39;00msizes\u001b[38;5;132;01m!r}\u001b[39;00m\u001b[33m\"\u001b[39m + add_err_msg\n\u001b[32m    480\u001b[39m     )\n",
      "\u001b[31mValueError\u001b[39m: cannot reindex or align along dimension 'time_counter' because of conflicting dimension sizes: {744, 672, 720}"
     ]
    }
   ],
   "source": [
    "# this Dataset wraps a bunch of virtual ManifestArray objects directly\n",
    "virtual_ds = xr.combine_nested(virtual_datasets, concat_dim=['time'])"
   ]
  },
  {
   "cell_type": "code",
   "execution_count": null,
   "id": "89bf1414-ca8f-42d4-87e1-d65d8b19878d",
   "metadata": {},
   "outputs": [],
   "source": []
  }
 ],
 "metadata": {
  "kernelspec": {
   "display_name": "pangeo2025",
   "language": "python",
   "name": "pangeo2025"
  },
  "language_info": {
   "codemirror_mode": {
    "name": "ipython",
    "version": 3
   },
   "file_extension": ".py",
   "mimetype": "text/x-python",
   "name": "python",
   "nbconvert_exporter": "python",
   "pygments_lexer": "ipython3",
   "version": "3.13.3"
  }
 },
 "nbformat": 4,
 "nbformat_minor": 5
}
